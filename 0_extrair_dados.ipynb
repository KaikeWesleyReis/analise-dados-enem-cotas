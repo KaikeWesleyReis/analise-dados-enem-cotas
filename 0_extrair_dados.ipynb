{
 "cells": [
  {
   "cell_type": "markdown",
   "id": "0a46282a",
   "metadata": {},
   "source": [
    "# Módulos"
   ]
  },
  {
   "cell_type": "code",
   "execution_count": 1,
   "id": "ad01b25b",
   "metadata": {},
   "outputs": [],
   "source": [
    "import numpy as np\n",
    "import pandas as pd"
   ]
  },
  {
   "cell_type": "markdown",
   "id": "132042b9",
   "metadata": {},
   "source": [
    "# __Execução__"
   ]
  },
  {
   "cell_type": "code",
   "execution_count": 2,
   "id": "157f21bb",
   "metadata": {},
   "outputs": [],
   "source": [
    "# Definir caminhos de dados\n",
    "path_enem_19 = 'dados/microdados/microdados_enem_2019/DADOS/MICRODADOS_ENEM_2019.csv' \n",
    "path_enem_20 = 'dados/microdados/microdados_enem_2020/DADOS/MICRODADOS_ENEM_2020.csv' \n",
    "path_enem_21 = 'dados/microdados/microdados_enem_2021/DADOS/MICRODADOS_ENEM_2021.csv' "
   ]
  },
  {
   "cell_type": "markdown",
   "id": "10c2dfd1",
   "metadata": {},
   "source": [
    "##### Puxar + Filtrar"
   ]
  },
  {
   "cell_type": "code",
   "execution_count": 3,
   "id": "02afe335",
   "metadata": {},
   "outputs": [],
   "source": [
    "# Extrair base completa\n",
    "df_enem = pd.read_csv(path_enem_19, low_memory=False, sep=';', encoding='latin-1')\n",
    "\n",
    "# Definir condição de seleção de alunos para análise\n",
    "condicao = df_enem['SG_UF_PROVA'] == 'BA'\n",
    "# Extrair\n",
    "df_e19_ba = df_enem[condicao].copy()"
   ]
  },
  {
   "cell_type": "code",
   "execution_count": 22,
   "id": "7a9a24b9",
   "metadata": {},
   "outputs": [],
   "source": [
    "# Extrair base completa\n",
    "df_enem = pd.read_csv(path_enem_20, low_memory=False, sep=';', encoding='latin-1')\n",
    "\n",
    "# Definir condição de seleção de alunos para análise\n",
    "condicao = df_enem['SG_UF_PROVA'] == 'BA'\n",
    "\n",
    "# Extrair\n",
    "df_e20_ba = df_enem[condicao].copy()"
   ]
  },
  {
   "cell_type": "code",
   "execution_count": 23,
   "id": "a6286f02",
   "metadata": {},
   "outputs": [],
   "source": [
    "# Extrair base completa\n",
    "df_enem = pd.read_csv(path_enem_21, low_memory=False, sep=';', encoding='latin-1')\n",
    "\n",
    "# Definir condição de seleção de alunos para análise\n",
    "condicao = df_enem['SG_UF_PROVA'] == 'BA'\n",
    "\n",
    "# Extrair\n",
    "df_e21_ba = df_enem[condicao].copy()"
   ]
  },
  {
   "cell_type": "markdown",
   "id": "89c98afe",
   "metadata": {},
   "source": [
    "#### Salvar em memória"
   ]
  },
  {
   "cell_type": "code",
   "execution_count": 30,
   "id": "3d23010e",
   "metadata": {},
   "outputs": [],
   "source": [
    "# Salvar localmente\n",
    "df_e19_ba.to_csv('dados/extracao/enem_2019_sg_uf_prova_ba.csv', index=False)\n",
    "df_e20_ba.to_csv('dados/extracao/enem_2020_sg_uf_prova_ba.csv', index=False)\n",
    "df_e21_ba.to_csv('dados/extracao/enem_2021_sg_uf_prova_ba.csv', index=False)"
   ]
  }
 ],
 "metadata": {
  "kernelspec": {
   "display_name": "Python 3 (ipykernel)",
   "language": "python",
   "name": "python3"
  },
  "language_info": {
   "codemirror_mode": {
    "name": "ipython",
    "version": 3
   },
   "file_extension": ".py",
   "mimetype": "text/x-python",
   "name": "python",
   "nbconvert_exporter": "python",
   "pygments_lexer": "ipython3",
   "version": "3.9.12"
  }
 },
 "nbformat": 4,
 "nbformat_minor": 5
}
