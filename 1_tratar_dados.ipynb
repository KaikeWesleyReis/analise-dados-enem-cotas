{
 "cells": [
  {
   "cell_type": "markdown",
   "id": "62d6d68f",
   "metadata": {},
   "source": [
    "# Módulos"
   ]
  },
  {
   "cell_type": "code",
   "execution_count": 1,
   "id": "e80fa0bf",
   "metadata": {},
   "outputs": [],
   "source": [
    "import numpy as np\n",
    "import pandas as pd"
   ]
  },
  {
   "cell_type": "markdown",
   "id": "25bf6801",
   "metadata": {},
   "source": [
    "# __Execução__\n",
    "\n",
    "## Importar dados"
   ]
  },
  {
   "cell_type": "code",
   "execution_count": 2,
   "id": "d18548ed",
   "metadata": {},
   "outputs": [],
   "source": [
    "# Definir caminhos de dados\n",
    "path_enem_19 = 'dados/extracao/enem_2019_sg_uf_prova_ba.csv' \n",
    "path_enem_20 = 'dados/extracao/enem_2020_sg_uf_prova_ba.csv' \n",
    "path_enem_21 = 'dados/extracao/enem_2021_sg_uf_prova_ba.csv'\n",
    "path_mdad_19 = 'dados/microdados/dicionarios_tratados/Dicionário_Microdados_Enem_2019.xlsx'\n",
    "path_mdad_20 = 'dados/microdados/dicionarios_tratados/Dicionário_Microdados_Enem_2020.xlsx'\n",
    "path_mdad_21 = 'dados/microdados/dicionarios_tratados/Dicionário_Microdados_Enem_2021.xlsx'"
   ]
  },
  {
   "cell_type": "code",
   "execution_count": 3,
   "id": "f788a16e",
   "metadata": {},
   "outputs": [],
   "source": [
    "# Extrair bases completas de estudantes que realizaram a prova na bahia\n",
    "df_e19 = pd.read_csv(path_enem_19, low_memory=False, sep=',', encoding='latin-1')\n",
    "df_e20 = pd.read_csv(path_enem_20, low_memory=False, sep=',', encoding='latin-1')\n",
    "df_e21 = pd.read_csv(path_enem_21, low_memory=False, sep=',', encoding='latin-1')"
   ]
  },
  {
   "cell_type": "code",
   "execution_count": 4,
   "id": "9ebb9654",
   "metadata": {},
   "outputs": [],
   "source": [
    "# Extrair dicionários de microdados\n",
    "df_md_19 = pd.read_excel(path_mdad_19, sheet_name='DEPARA').fillna(method='ffill')\n",
    "df_md_20 = pd.read_excel(path_mdad_20, sheet_name='DEPARA').fillna(method='ffill')\n",
    "df_md_21 = pd.read_excel(path_mdad_21, sheet_name='DEPARA').fillna(method='ffill')"
   ]
  },
  {
   "cell_type": "code",
   "execution_count": 5,
   "id": "39b2a3c7",
   "metadata": {},
   "outputs": [],
   "source": [
    "# Definir colunas ignoradas para nossa análise inicialmente\n",
    "cols_to_drop = ['CO_UF_PROVA','SG_UF_PROVA',\n",
    "                'TX_RESPOSTAS_CH','TX_RESPOSTAS_LC','TX_RESPOSTAS_MT',\n",
    "                'NU_NOTA_COMP1','NU_NOTA_COMP2','NU_NOTA_COMP3','NU_NOTA_COMP4','NU_NOTA_COMP5',\n",
    "                'TX_GABARITO_CN','TX_GABARITO_CH','TX_GABARITO_LC','TX_GABARITO_MT','TX_RESPOSTAS_CN']"
   ]
  },
  {
   "cell_type": "code",
   "execution_count": 6,
   "id": "94c12687",
   "metadata": {},
   "outputs": [],
   "source": [
    "# Unificar bases de dados\n",
    "df_enem = pd.concat([df_e19, df_e20, df_e21], axis=0)\n",
    "\n",
    "# Deletar bases anteriores\n",
    "del df_e19, df_e20, df_e21"
   ]
  },
  {
   "cell_type": "code",
   "execution_count": 7,
   "id": "728e92f6",
   "metadata": {},
   "outputs": [],
   "source": [
    "# Remover colunas não avaliadas\n",
    "df_enem.drop(columns=cols_to_drop, inplace=True)"
   ]
  },
  {
   "cell_type": "markdown",
   "id": "f29c5e16",
   "metadata": {},
   "source": [
    "## Tratar colunas\n",
    "\n",
    "- Código pode trazer informações de defiência\n",
    "- Trazer detalhe das colunas aqui\n",
    "- Filtrar\n",
    "\n",
    "### Aplicar dicionário para tornar valores mascarados em corretos"
   ]
  },
  {
   "cell_type": "code",
   "execution_count": 8,
   "id": "6903d566",
   "metadata": {},
   "outputs": [
    {
     "name": "stdout",
     "output_type": "stream",
     "text": [
      "2019\n",
      "2020\n",
      "2021\n"
     ]
    }
   ],
   "source": [
    "# Loop para aplicar devidamente cada dicionário ao ano respectivo\n",
    "for ano, df_md in zip(sorted(df_enem['NU_ANO'].unique()), [df_md_19, df_md_20, df_md_21]):\n",
    "    print(ano)\n",
    "    # Definir condição de ano\n",
    "    cond_ano = df_enem['NU_ANO'] == ano\n",
    "    # Loop nas colunas que estão presentes no dicionário\n",
    "    for col in [c for c in df_enem.columns if c in df_md['COLUNA'].unique()]:\n",
    "        # Criar dicionário de para\n",
    "        dp = dict(zip(df_md.loc[df_md['COLUNA']==col, 'VALOR_ATUAL'], df_md.loc[df_md['COLUNA']==col, 'VALOR_CORRETO']))\n",
    "        # Aplicar\n",
    "        df_enem.loc[cond_ano, col] = df_enem.loc[cond_ano, col].replace(dp)"
   ]
  },
  {
   "cell_type": "code",
   "execution_count": 9,
   "id": "d59f81d8",
   "metadata": {},
   "outputs": [],
   "source": [
    "# Visualizar cada categoria para cada variável categórica\n",
    "#for col in df_enem.columns[df_enem.dtypes == 'object']:\n",
    "#    print(f'###################################### {col}')\n",
    "#    vals = ' | '.join([str(c) for c in df_enem[col].unique()])\n",
    "#    print(f'{vals}')"
   ]
  },
  {
   "cell_type": "markdown",
   "id": "d5371bd9",
   "metadata": {},
   "source": [
    "### Criar novas colunas\n",
    "\n",
    "**Criar nova coluna - `EH_CAPITAL`**"
   ]
  },
  {
   "cell_type": "code",
   "execution_count": 10,
   "id": "cc170943",
   "metadata": {},
   "outputs": [],
   "source": [
    "# Criar novas colunas\n",
    "df_enem['EH_CAPITAL_MUNICIPIO_PROVA'] = (df_enem['NO_MUNICIPIO_PROVA'] == 'Salvador').astype(int)\n",
    "df_enem['EH_CAPITAL_MUNICIPIO_ESCOLA'] = (df_enem['NO_MUNICIPIO_ESC'] == 'Salvador').astype(int)"
   ]
  },
  {
   "cell_type": "markdown",
   "id": "f509ff17",
   "metadata": {},
   "source": [
    "**Criar nova coluna - `EH_PROVA_DEFICIENCIA`**"
   ]
  },
  {
   "cell_type": "code",
   "execution_count": 11,
   "id": "740c5009",
   "metadata": {},
   "outputs": [],
   "source": [
    "# Definir dicionário com códigos que apontem para este tipo de prova:\n",
    "dp_defi = {\n",
    "           2019:{'CO_PROVA_CN':[519,523],\n",
    "                 'CO_PROVA_CH':[520,524],\n",
    "                 'CO_PROVA_LC':[521,525],\n",
    "                 'CO_PROVA_MT':[522,526]},\n",
    "           2020:{'CO_PROVA_CN':[604,605,684],\n",
    "                 'CO_PROVA_CH':[574,575,654],\n",
    "                 'CO_PROVA_LC':[584,585,664],\n",
    "                 'CO_PROVA_MT':[594,595,674]},\n",
    "           2021:{'CO_PROVA_CN':[915,916,917,996],\n",
    "                 'CO_PROVA_CH':[885,886,887,996],\n",
    "                 'CO_PROVA_LC':[895,896,897,976],\n",
    "                 'CO_PROVA_MT':[905,906,907,986]}\n",
    "          }"
   ]
  },
  {
   "cell_type": "code",
   "execution_count": 12,
   "id": "5cda31d7",
   "metadata": {},
   "outputs": [],
   "source": [
    "# Criar nova coluna\n",
    "for ano, cols_lista in dp_defi.items():\n",
    "    # Gerar condições\n",
    "    c0 = df_enem['NU_ANO'] == ano\n",
    "    c1 = df_enem['CO_PROVA_CN'].isin(cols_lista['CO_PROVA_CN'])\n",
    "    c2 = df_enem['CO_PROVA_CH'].isin(cols_lista['CO_PROVA_CH'])\n",
    "    c3 = df_enem['CO_PROVA_LC'].isin(cols_lista['CO_PROVA_LC'])\n",
    "    c4 = df_enem['CO_PROVA_MT'].isin(cols_lista['CO_PROVA_MT'])\n",
    "    # Montar coluna para o ano\n",
    "    df_enem[f'EH_PROVA_DEFICIENCIA_{str(ano)}'] = (c0 & (c1 | c2 | c3 | c4)).astype(int)"
   ]
  },
  {
   "cell_type": "code",
   "execution_count": 13,
   "id": "df5ddde3",
   "metadata": {},
   "outputs": [],
   "source": [
    "# Unificar e binarizar\n",
    "cols_temp = [c for c in df_enem.columns if 'EH_PROVA_DEFICIENCIA' in c]\n",
    "df_enem['EH_PROVA_DEFICIENCIA'] = (df_enem[cols_temp].sum(axis=1) >= 1).astype(int)\n",
    "df_enem.drop(columns=cols_temp, inplace=True)"
   ]
  },
  {
   "cell_type": "markdown",
   "id": "6cf0da18",
   "metadata": {},
   "source": [
    "**Criar nova coluna - `EH_PROVA_DIGITAL`**"
   ]
  },
  {
   "cell_type": "code",
   "execution_count": 14,
   "id": "0ea4677c",
   "metadata": {},
   "outputs": [],
   "source": [
    "# Definir dicionário com códigos que apontem para este tipo de prova\n",
    "dp_digi = {\n",
    "           2020:{'CO_PROVA_CN':[699,700,701,702],\n",
    "                 'CO_PROVA_CH':[687,688,689,690],\n",
    "                 'CO_PROVA_LC':[691,692,693,694],\n",
    "                 'CO_PROVA_MT':[695,696,697,698]},\n",
    "           2021:{'CO_PROVA_CN':[1011,1012,1013,1014], \n",
    "                 'CO_PROVA_CH':[999,1000,1001,1002],\n",
    "                 'CO_PROVA_LC':[1003,1004,1005,1006],\n",
    "                 'CO_PROVA_MT':[1007,1008,1009,1010]}\n",
    "          }"
   ]
  },
  {
   "cell_type": "code",
   "execution_count": 15,
   "id": "c6abac27",
   "metadata": {},
   "outputs": [],
   "source": [
    "# Criar nova coluna\n",
    "for ano, cols_lista in dp_digi.items():\n",
    "    # Gerar condições\n",
    "    c0 = df_enem['NU_ANO'] == ano\n",
    "    c1 = df_enem['CO_PROVA_CN'].isin(cols_lista['CO_PROVA_CN'])\n",
    "    c2 = df_enem['CO_PROVA_CH'].isin(cols_lista['CO_PROVA_CH'])\n",
    "    c3 = df_enem['CO_PROVA_LC'].isin(cols_lista['CO_PROVA_LC'])\n",
    "    c4 = df_enem['CO_PROVA_MT'].isin(cols_lista['CO_PROVA_MT'])\n",
    "    # Montar coluna para o ano\n",
    "    df_enem[f'EH_PROVA_DIGITAL_{str(ano)}'] = (c0 & (c1 | c2 | c3 | c4)).astype(int)\n",
    "# Unificar e binarizar\n",
    "cols_temp = [c for c in df_enem.columns if 'EH_PROVA_DIGITAL' in c]\n",
    "df_enem['EH_PROVA_DIGITAL'] = (df_enem[cols_temp].sum(axis=1) >= 1).astype(int)\n",
    "df_enem.drop(columns=cols_temp, inplace=True)"
   ]
  },
  {
   "cell_type": "markdown",
   "id": "8ab7d232",
   "metadata": {},
   "source": [
    "**Criar nova coluna - Renda Familiar unificada através dos anos em `RENDA_FAMILIAR`**"
   ]
  },
  {
   "cell_type": "code",
   "execution_count": null,
   "id": "64b24bae",
   "metadata": {},
   "outputs": [],
   "source": [
    "# Unificação de categorias de renda através dos anos\n",
    "dp_renda = {'2019':{'Nenhuma Renda': ['Nenhuma renda.'],\n",
    "                    'Até 1 salário mínimo': ['Até R$ 998,00.'],\n",
    "                    'De 1 Salário Mínimo até 3 Salários Mínimos': ['De R$ 998,01 até R$ 1.497,00.',\n",
    "                                                                   'De R$ 1.497,01 até R$ 1.996,00.',\n",
    "                                                                   'De R$ 1.996,01 até R$ 2.495,00.',\n",
    "                                                                   'De R$ 2.495,01 até R$ 2.994,00.'],\n",
    "                    'De 3 Salários Mínimos até 5 Salários Mínimos': ['De R$ 2.994,01 até R$ 3.992,00.',\n",
    "                                                                     'De R$ 3.992,01 até R$ 4.990,00.'],\n",
    "                    'De 5 Salários Mínimos até 10 Salários Mínimos': ['De R$ 4.990,01 até R$ 5.988,00.',\n",
    "                                                                      'De R$ 5.988,01 até R$ 6.986,00.',\n",
    "                                                                      'De R$ 6.986,01 até R$ 7.984,00.',\n",
    "                                                                      'De R$ 7.984,01 até R$ 8.982,00.',\n",
    "                                                                      'De R$ 8.982,01 até R$ 9.980,00.'],\n",
    "                    'De 10 Salários Mínimos para cima': ['De R$ 9.980,01 até R$ 11.976,00.',\n",
    "                                                         'De R$ 11.976,01 até R$ 14.970,00.',\n",
    "                                                         'De R$ 14.970,01 até R$ 19.960,00.',\n",
    "                                                         'Mais de R$ 19.960,00.']},\n",
    "            '2020':{'Nenhuma Renda': ['Nenhuma Renda'],\n",
    "                    'Até 1 salário mínimo': ['Até R$ 1.045,00'],\n",
    "                    'De 1 Salário Mínimo até 3 Salários Mínimos': ['De R$ 1.045,01 até R$ 1.567,50',\n",
    "                                                                   'De R$ 1.567,51 até R$ 2.090,00',\n",
    "                                                                   'R$ 2.090,01 até R$ 2.612,50', \n",
    "                                                                   'De R$ 2.612,51 até R$ 3.135,00'],\n",
    "                    'De 3 Salários Mínimos até 5 Salários Mínimos': ['De R$ 3.135,01 até R$ 4.180,00',\n",
    "                                                                     'De R$ 4.180,01 até R$ 5.225,00'],\n",
    "                    'De 5 Salários Mínimos até 10 Salários Mínimos': ['De R$ 5.225,01 até R$ 6.270,00',\n",
    "                                                                      'De R$ 6.270,01 até R$ 7.315,00',\n",
    "                                                                      'De R$ 7.315,01 até R$ 8.360,00',\n",
    "                                                                      'De R$ 8.360,01 até R$ 9.405,00',\n",
    "                                                                      'De R$ 9.405,01 até R$ 10.450,00'],\n",
    "                    'De 10 Salários Mínimos para cima': ['De R$ 10.450,01 até R$ 12.540,00',\n",
    "                                                         'De R$ 12.540,01 até R$ 15.675,00',\n",
    "                                                         'De R$ 15.675,01 até R$ 20.900,00',\n",
    "                                                         'Acima de R$ 20.900,00']},\n",
    "            '2021':{'Nenhuma Renda': ['Nenhuma Renda'],\n",
    "                    'Até 1 salário mínimo': ['Até R$ 1.100,00'],\n",
    "                    'De 1 Salário Mínimo até 3 Salários Mínimos': ['De R$ 1.100,01 até R$ 1.650,00.',\n",
    "                                                                   'De R$ 1.650,01 até R$ 2.200,00.',\n",
    "                                                                   'De R$ 2.200,01 até R$ 2.750,00.',\n",
    "                                                                   'De R$ 2.750,01 até R$ 3.300,00.'],\n",
    "                    'De 3 Salários Mínimos até 5 Salários Mínimos': ['De R$ 3.300,01 até R$ 4.400,00.',\n",
    "                                                                     'De R$ 4.400,01 até R$ 5.500,00.'],\n",
    "                    'De 5 Salários Mínimos até 10 Salários Mínimos': ['De R$ 5.500,01 até R$ 6.600,00.',\n",
    "                                                                      'De R$ 6.600,01 até R$ 7.700,00.',\n",
    "                                                                      'De R$ 7.700,01 até R$ 8.800,00.',\n",
    "                                                                      'De R$ 8.800,01 até R$ 9.900,00.',\n",
    "                                                                      'De R$ 9.900,01 até R$ 11.000,00.'],\n",
    "                    'De 10 Salários Mínimos para cima': ['De R$ 11.000,01 até R$ 13.200,00.',\n",
    "                                                         'De R$ 13.200,01 até R$ 16.500,00.',\n",
    "                                                         'De R$ 16.500,01 até R$ 22.000,00.',\n",
    "                                                         'Acima de R$ 22.000,00.']}"
   ]
  },
  {
   "cell_type": "code",
   "execution_count": 36,
   "id": "ef673adc",
   "metadata": {},
   "outputs": [],
   "source": [
    "# Unificação de categorias de renda através dos anos\n",
    "dp_renda = {'2019':{'Nenhuma renda.':'Nenhuma Renda',\n",
    "                    'Até R$ 998,00.':'Até 1 salário mínimo',\n",
    "                    'De R$ 998,01 até R$ 1.497,00.':'De 1 Salário Mínimo até 3 Salários Mínimos',\n",
    "                    'De R$ 1.497,01 até R$ 1.996,00.':'De 1 Salário Mínimo até 3 Salários Mínimos',\n",
    "                    'De R$ 1.996,01 até R$ 2.495,00.':'De 1 Salário Mínimo até 3 Salários Mínimos',\n",
    "                    'De R$ 2.495,01 até R$ 2.994,00.':'De 1 Salário Mínimo até 3 Salários Mínimos',\n",
    "                    'De R$ 2.994,01 até R$ 3.992,00.':'De 3 Salários Mínimos até 5 Salários Mínimos',\n",
    "                    'De R$ 3.992,01 até R$ 4.990,00.':'De 3 Salários Mínimos até 5 Salários Mínimos',\n",
    "                    'De R$ 4.990,01 até R$ 5.988,00.':'De 5 Salários Mínimos até 10 Salários Mínimos',\n",
    "                    'De R$ 5.988,01 até R$ 6.986,00.':'De 5 Salários Mínimos até 10 Salários Mínimos',\n",
    "                    'De R$ 6.986,01 até R$ 7.984,00.':'De 5 Salários Mínimos até 10 Salários Mínimos',\n",
    "                    'De R$ 7.984,01 até R$ 8.982,00.':'De 5 Salários Mínimos até 10 Salários Mínimos',\n",
    "                    'De R$ 8.982,01 até R$ 9.980,00.':'De 5 Salários Mínimos até 10 Salários Mínimos',\n",
    "                    'De R$ 9.980,01 até R$ 11.976,00.':'De 10 Salários Mínimos para cima',\n",
    "                    'De R$ 11.976,01 até R$ 14.970,00.':'De 10 Salários Mínimos para cima',\n",
    "                    'De R$ 14.970,01 até R$ 19.960,00.':'De 10 Salários Mínimos para cima',\n",
    "                    'Mais de R$ 19.960,00.':'De 10 Salários Mínimos para cima'},\n",
    "            '2020':{'Nenhuma Renda':'Nenhuma Renda',\n",
    "                    'Até R$ 1.045,00':'Até 1 salário mínimo',\n",
    "                    'De R$ 1.045,01 até R$ 1.567,50':'De 1 Salário Mínimo até 3 Salários Mínimos',\n",
    "                    'De R$ 1.567,51 até R$ 2.090,00':'De 1 Salário Mínimo até 3 Salários Mínimos',\n",
    "                    'De R$ 2.090,01 até R$ 2.612,50':'De 1 Salário Mínimo até 3 Salários Mínimos',\n",
    "                    'De R$ 2.612,51 até R$ 3.135,00':'De 1 Salário Mínimo até 3 Salários Mínimos',\n",
    "                    'De R$ 3.135,01 até R$ 4.180,00':'De 3 Salários Mínimos até 5 Salários Mínimos',\n",
    "                    'De R$ 4.180,01 até R$ 5.225,00':'De 3 Salários Mínimos até 5 Salários Mínimos',\n",
    "                    'De R$ 5.225,01 até R$ 6.270,00':'De 5 Salários Mínimos até 10 Salários Mínimos',\n",
    "                    'De R$ 6.270,01 até R$ 7.315,00':'De 5 Salários Mínimos até 10 Salários Mínimos',\n",
    "                    'De R$ 7.315,01 até R$ 8.360,00':'De 5 Salários Mínimos até 10 Salários Mínimos',\n",
    "                    'De R$ 8.360,01 até R$ 9.405,00':'De 5 Salários Mínimos até 10 Salários Mínimos',\n",
    "                    'De R$ 9.405,01 até R$ 10.450,00':'De 5 Salários Mínimos até 10 Salários Mínimos',\n",
    "                    'De R$ 10.450,01 até R$ 12.540,00':'De 10 Salários Mínimos para cima',\n",
    "                    'De R$ 12.540,01 até R$ 15.675,00':'De 10 Salários Mínimos para cima',\n",
    "                    'De R$ 15.675,01 até R$ 20.900,00':'De 10 Salários Mínimos para cima',\n",
    "                    'Acima de R$ 20.900,00':'De 10 Salários Mínimos para cima'},\n",
    "            '2021':{'Nenhuma Renda':'Nenhuma Renda',\n",
    "                    'Até R$ 1.100,00':'Até 1 salário mínimo',\n",
    "                    'De R$ 1.100,01 até R$ 1.650,00.':'De 1 Salário Mínimo até 3 Salários Mínimos',\n",
    "                    'De R$ 1.650,01 até R$ 2.200,00.':'De 1 Salário Mínimo até 3 Salários Mínimos',\n",
    "                    'De R$ 2.200,01 até R$ 2.750,00.':'De 1 Salário Mínimo até 3 Salários Mínimos',\n",
    "                    'De R$ 2.750,01 até R$ 3.300,00.':'De 1 Salário Mínimo até 3 Salários Mínimos',\n",
    "                    'De R$ 3.300,01 até R$ 4.400,00.':'De 3 Salários Mínimos até 5 Salários Mínimos',\n",
    "                    'De R$ 4.400,01 até R$ 5.500,00.':'De 3 Salários Mínimos até 5 Salários Mínimos',\n",
    "                    'De R$ 5.500,01 até R$ 6.600,00.':'De 5 Salários Mínimos até 10 Salários Mínimos',\n",
    "                    'De R$ 6.600,01 até R$ 7.700,00.':'De 5 Salários Mínimos até 10 Salários Mínimos',\n",
    "                    'De R$ 7.700,01 até R$ 8.800,00.':'De 5 Salários Mínimos até 10 Salários Mínimos',\n",
    "                    'De R$ 8.800,01 até R$ 9.900,00.':'De 5 Salários Mínimos até 10 Salários Mínimos',\n",
    "                    'De R$ 9.900,01 até R$ 11.000,00.':'De 5 Salários Mínimos até 10 Salários Mínimos',\n",
    "                    'De R$ 11.000,01 até R$ 13.200,00.':'De 10 Salários Mínimos para cima',\n",
    "                    'De R$ 13.200,01 até R$ 16.500,00.':'De 10 Salários Mínimos para cima',\n",
    "                    'De R$ 16.500,01 até R$ 22.000,00.':'De 10 Salários Mínimos para cima',\n",
    "                    'Acima de R$ 22.000,00.':'De 10 Salários Mínimos para cima'}\n",
    "           }"
   ]
  },
  {
   "cell_type": "code",
   "execution_count": 37,
   "id": "6e646d1f",
   "metadata": {},
   "outputs": [],
   "source": [
    "#df_bkp = df_enem.copy()\n",
    "#df_enem = df_bkp.copy()"
   ]
  },
  {
   "cell_type": "code",
   "execution_count": 38,
   "id": "3addb42e",
   "metadata": {},
   "outputs": [],
   "source": [
    "# Criar nova coluna\n",
    "for ano, cols_lista in dp_renda.items():\n",
    "    # Gerar condições\n",
    "    c0 = df_enem['NU_ANO'] == int(ano)\n",
    "    # Aplicar\n",
    "    df_enem.loc[c0, 'RENDA_FAMILIAR'] = df_enem.loc[c0, 'Q006'].replace(cols_lista)"
   ]
  },
  {
   "cell_type": "markdown",
   "id": "113bf5af",
   "metadata": {},
   "source": [
    "**Derrubar colunas não necessárias**"
   ]
  },
  {
   "cell_type": "code",
   "execution_count": 42,
   "id": "0fd368b9",
   "metadata": {},
   "outputs": [],
   "source": [
    "# Drop\n",
    "df_enem.drop(columns=['CO_PROVA_CN', 'CO_PROVA_CH', 'CO_PROVA_LC', 'CO_PROVA_MT'], inplace=True)"
   ]
  },
  {
   "cell_type": "markdown",
   "id": "5ec4f868",
   "metadata": {},
   "source": [
    "**Criar nova coluna - `NOTA_FINAL_PESO_UFBA_EE` & `NOTA_FINAL_PESO_UFBA_MED` & `NOTA_CORTE_EE` & `NOTA_CORTE_MED`**\n",
    "\n",
    "- [Engenharia Elétrica](https://sisusimulator.com.br/ufba/campus-federacao-ondina/engenharia-eletrica-bacharelado)\n",
    "- 2019 - LC - 2 | CH - 2 | CN - 4 | MT 4 | RD - 3 | NOTA DE CORTE 19.1 - 767.04\n",
    "- 2020 - LC - 2 | CH - 2 | CN - 4 | MT 4 | RD - 3 | NOTA DE CORTE 20.1 - 749.28\n",
    "- 2021 - LC - 2 | CH - 2 | CN - 4 | MT 4 | RD - 3 | NOTA DE CORTE 21.1 - 731.33\n",
    "\n",
    "- [Medicina](https://sisusimulator.com.br/ufba/unidades-dispersas-salvador-(faculdade-de-medicina)/medicina-bacharelado)\n",
    "- 2019 - LC - 2 | CH - 2 | CN - 4 | MT 4 | RD - 3 | NOTA DE CORTE 19.1 - 789.46\n",
    "- 2020 - LC - 3 | CH - 3 | CN - 4 | MT 2 | RD - 3 | NOTA DE CORTE 20.1 - 773.07\n",
    "- 2021 - LC - 2 | CH - 2 | CN - 4 | MT 2 | RD - 3 | NOTA DE CORTE 21.1 - 794.17"
   ]
  },
  {
   "cell_type": "code",
   "execution_count": 43,
   "id": "b7f48268",
   "metadata": {},
   "outputs": [],
   "source": [
    "def calcular_nota_ufba_ssa(nota_lc, nota_ch, nota_cn, nota_mt, nota_rd, p_lc, p_ch, p_cn, p_mt, p_rd):\n",
    "    '''\n",
    "    Função para calcular a nota do aluno para a ufba\n",
    "    '''\n",
    "    # Calcular média ponderada\n",
    "    mp_num = np.nansum([nota_lc*p_lc, nota_ch*p_ch, nota_cn*p_cn, nota_mt*p_mt, nota_rd*p_rd])\n",
    "    mp_den = p_lc + p_ch + p_cn + p_mt + p_rd\n",
    "    # Retornar\n",
    "    return mp_num / mp_den"
   ]
  },
  {
   "cell_type": "code",
   "execution_count": 44,
   "id": "c38951a7",
   "metadata": {},
   "outputs": [],
   "source": [
    "# Calcular EE\n",
    "df_enem['NOTA_FINAL_PESO_UFBA_EE'] = df_enem.apply(lambda df:calcular_nota_ufba_ssa(df['NU_NOTA_LC'],\n",
    "                                                                                    df['NU_NOTA_CH'],\n",
    "                                                                                    df['NU_NOTA_CN'],\n",
    "                                                                                    df['NU_NOTA_MT'],\n",
    "                                                                                    df['NU_NOTA_REDACAO'],\n",
    "                                                                                    2,2,4,4,3), axis=1)\n",
    "# Calcular MED\n",
    "df_enem['NOTA_FINAL_PESO_UFBA_MED'] = df_enem.apply(lambda df:calcular_nota_ufba_ssa(df['NU_NOTA_LC'],\n",
    "                                                                                     df['NU_NOTA_CH'],\n",
    "                                                                                     df['NU_NOTA_CN'],\n",
    "                                                                                     df['NU_NOTA_MT'],\n",
    "                                                                                     df['NU_NOTA_REDACAO'],\n",
    "                                                                                     2,2,4,2,3), axis=1)"
   ]
  },
  {
   "cell_type": "code",
   "execution_count": 45,
   "id": "f803cae1",
   "metadata": {},
   "outputs": [],
   "source": [
    "# Criar nota de corte - EE\n",
    "df_enem.loc[df_enem['NU_ANO']==2019, 'NOTA_CORTE_EE'] = 767.04\n",
    "df_enem.loc[df_enem['NU_ANO']==2020, 'NOTA_CORTE_EE'] = 749.28\n",
    "df_enem.loc[df_enem['NU_ANO']==2021, 'NOTA_CORTE_EE'] = 731.33\n",
    "\n",
    "# Criar nota de corte - MED\n",
    "df_enem.loc[df_enem['NU_ANO']==2019, 'NOTA_CORTE_MED'] = 789.46\n",
    "df_enem.loc[df_enem['NU_ANO']==2020, 'NOTA_CORTE_MED'] = 773.07\n",
    "df_enem.loc[df_enem['NU_ANO']==2021, 'NOTA_CORTE_MED'] = 794.17"
   ]
  },
  {
   "cell_type": "code",
   "execution_count": 46,
   "id": "121f3e61",
   "metadata": {},
   "outputs": [],
   "source": [
    "# Ordenar dataframe final para salvar\n",
    "df_enem.sort_values(['NU_ANO','NOTA_FINAL_PESO_UFBA_MED'], ascending=False, inplace=True)"
   ]
  },
  {
   "cell_type": "markdown",
   "id": "7cbaf4bf",
   "metadata": {},
   "source": [
    "# Exportar dados para análise"
   ]
  },
  {
   "cell_type": "code",
   "execution_count": 47,
   "id": "54c44e59",
   "metadata": {},
   "outputs": [],
   "source": [
    "df_enem.to_csv('dados/transformacao/dados_enem_19_20_21.csv', index=False)"
   ]
  }
 ],
 "metadata": {
  "kernelspec": {
   "display_name": "Python 3 (ipykernel)",
   "language": "python",
   "name": "python3"
  },
  "language_info": {
   "codemirror_mode": {
    "name": "ipython",
    "version": 3
   },
   "file_extension": ".py",
   "mimetype": "text/x-python",
   "name": "python",
   "nbconvert_exporter": "python",
   "pygments_lexer": "ipython3",
   "version": "3.9.12"
  }
 },
 "nbformat": 4,
 "nbformat_minor": 5
}
