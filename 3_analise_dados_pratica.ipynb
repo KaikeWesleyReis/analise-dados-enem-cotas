{
 "cells": [
  {
   "cell_type": "markdown",
   "id": "62d6d68f",
   "metadata": {},
   "source": [
    "# Módulos"
   ]
  },
  {
   "cell_type": "code",
   "execution_count": 2,
   "id": "e80fa0bf",
   "metadata": {},
   "outputs": [],
   "source": [
    "# Padrão\n",
    "import numpy as np\n",
    "import pandas as pd\n",
    "\n",
    "# Visualização\n",
    "import seaborn as sns\n",
    "import matplotlib.pyplot as plt\n",
    "\n",
    "# Análise estatística\n",
    "from scipy import stats"
   ]
  },
  {
   "cell_type": "markdown",
   "id": "25bf6801",
   "metadata": {},
   "source": [
    "# Extração de dados"
   ]
  },
  {
   "cell_type": "code",
   "execution_count": 5,
   "id": "d18548ed",
   "metadata": {},
   "outputs": [],
   "source": [
    "# Definir caminhos de dados\n",
    "path_enem = 'dados/enem_analise_completa.csv' \n",
    "path_enem_presenca = 'dados/enem_analise_presenca_completa.csv'  \n",
    "\n",
    "# Extrair base completa\n",
    "df_enem = pd.read_csv(path_enem, low_memory=False, sep=',', encoding='utf-8')\n",
    "df_enem_nota = pd.read_csv(path_enem_presenca, low_memory=False, sep=',', encoding='utf-8')"
   ]
  },
  {
   "cell_type": "markdown",
   "id": "46ed8160",
   "metadata": {},
   "source": [
    "# Análises"
   ]
  },
  {
   "cell_type": "code",
   "execution_count": null,
   "id": "66ffc3a0",
   "metadata": {},
   "outputs": [],
   "source": []
  }
 ],
 "metadata": {
  "kernelspec": {
   "display_name": "Python 3 (ipykernel)",
   "language": "python",
   "name": "python3"
  },
  "language_info": {
   "codemirror_mode": {
    "name": "ipython",
    "version": 3
   },
   "file_extension": ".py",
   "mimetype": "text/x-python",
   "name": "python",
   "nbconvert_exporter": "python",
   "pygments_lexer": "ipython3",
   "version": "3.9.12"
  }
 },
 "nbformat": 4,
 "nbformat_minor": 5
}
